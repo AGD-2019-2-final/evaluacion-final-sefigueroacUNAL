{
 "cells": [
  {
   "cell_type": "code",
   "execution_count": 1,
   "metadata": {},
   "outputs": [],
   "source": [
    "%load_ext bigdata\n",
    "%hive_start\n",
    "%timeout 300"
   ]
  },
  {
   "cell_type": "code",
   "execution_count": 2,
   "metadata": {},
   "outputs": [
    {
     "name": "stdout",
     "output_type": "stream",
     "text": [
      "DROP TABLE IF EXISTS t0;\n",
      "OK\n",
      "Time taken: 20.245 seconds\n",
      "CREATE TABLE t0 (\n",
      "    c1 STRING,\n",
      "    c2 ARRAY<CHAR(1)>, \n",
      "    c3 MAP<STRING, INT>\n",
      "    )\n",
      "    ROW FORMAT DELIMITED \n",
      "        FIELDS TERMINATED BY '\\t'\n",
      "        COLLECTION ITEMS TERMINATED BY ','\n",
      "        MAP KEYS TERMINATED BY '#'\n",
      "        LINES TERMINATED BY '\\n';\n",
      "OK\n",
      "Time taken: 1.069 seconds\n",
      "LOAD DATA LOCAL INPATH 'data.tsv' INTO TABLE t0;\n",
      "Loading data to table default.t0\n",
      "OK\n",
      "Time taken: 1.905 seconds\n"
     ]
    }
   ],
   "source": [
    "%%hive\n",
    "DROP TABLE IF EXISTS t0;\n",
    "CREATE TABLE t0 (\n",
    "    c1 STRING,\n",
    "    c2 ARRAY<CHAR(1)>, \n",
    "    c3 MAP<STRING, INT>\n",
    "    )\n",
    "    ROW FORMAT DELIMITED \n",
    "        FIELDS TERMINATED BY '\\t'\n",
    "        COLLECTION ITEMS TERMINATED BY ','\n",
    "        MAP KEYS TERMINATED BY '#'\n",
    "        LINES TERMINATED BY '\\n';\n",
    "LOAD DATA LOCAL INPATH 'data.tsv' INTO TABLE t0;"
   ]
  },
  {
   "cell_type": "code",
   "execution_count": 4,
   "metadata": {},
   "outputs": [
    {
     "name": "stdout",
     "output_type": "stream",
     "text": [
      "SHOW TABLES;\n",
      "OK\n",
      "let_by_year\n",
      "t0\n",
      "tbl0\n",
      "tbl1\n",
      "Time taken: 0.211 seconds, Fetched: 4 row(s)\n"
     ]
    }
   ],
   "source": [
    "%%hive\n",
    "SHOW TABLES;"
   ]
  },
  {
   "cell_type": "code",
   "execution_count": 3,
   "metadata": {},
   "outputs": [
    {
     "name": "stdout",
     "output_type": "stream",
     "text": [
      "-- Escriba una consulta que retorne la primera columna, la cantidad de \n",
      "-- elementos en la columna 2 y la cantidad de elementos en la columna 3\n",
      "--\n",
      "-- Escriba el resultado a la carpeta `output` de directorio de trabajo.\n",
      "--\n",
      "SELECT c1, SIZE(c2), SIZE(c3)\n",
      "FROM t0;\n",
      "OK\n",
      "E\t3\t5\n",
      "A\t3\t4\n",
      "B\t4\t4\n",
      "A\t2\t4\n",
      "C\t4\t4\n",
      "A\t2\t5\n",
      "A\t3\t6\n",
      "B\t2\t3\n",
      "E\t4\t6\n",
      "B\t4\t6\n",
      "C\t4\t5\n",
      "C\t4\t3\n",
      "D\t4\t5\n",
      "E\t2\t3\n",
      "B\t2\t5\n",
      "D\t2\t4\n",
      "E\t3\t6\n",
      "D\t2\t3\n",
      "E\t4\t3\n",
      "E\t2\t3\n",
      "E\t2\t3\n",
      "E\t3\t3\n",
      "D\t3\t3\n",
      "A\t3\t5\n",
      "E\t2\t6\n",
      "E\t3\t6\n",
      "A\t3\t3\n",
      "E\t3\t5\n",
      "A\t2\t5\n",
      "C\t4\t6\n",
      "A\t2\t5\n",
      "D\t2\t6\n",
      "E\t2\t4\n",
      "B\t3\t6\n",
      "B\t3\t5\n",
      "D\t2\t3\n",
      "B\t2\t5\n",
      "C\t4\t3\n",
      "E\t2\t3\n",
      "E\t3\t3\n",
      "Time taken: 2.701 seconds, Fetched: 40 row(s)\n"
     ]
    }
   ],
   "source": [
    "%%hive\n",
    "-- Escriba una consulta que retorne la primera columna, la cantidad de \n",
    "-- elementos en la columna 2 y la cantidad de elementos en la columna 3\n",
    "--\n",
    "-- Escriba el resultado a la carpeta `output` de directorio de trabajo.\n",
    "--\n",
    "SELECT c1, SIZE(c2), SIZE(c3)\n",
    "FROM t0;"
   ]
  },
  {
   "cell_type": "code",
   "execution_count": 4,
   "metadata": {},
   "outputs": [],
   "source": [
    "%hive_quit"
   ]
  },
  {
   "cell_type": "code",
   "execution_count": null,
   "metadata": {},
   "outputs": [],
   "source": []
  }
 ],
 "metadata": {
  "kernelspec": {
   "display_name": "Python 3",
   "language": "python",
   "name": "python3"
  },
  "language_info": {
   "codemirror_mode": {
    "name": "ipython",
    "version": 3
   },
   "file_extension": ".py",
   "mimetype": "text/x-python",
   "name": "python",
   "nbconvert_exporter": "python",
   "pygments_lexer": "ipython3",
   "version": "3.6.8"
  }
 },
 "nbformat": 4,
 "nbformat_minor": 4
}
