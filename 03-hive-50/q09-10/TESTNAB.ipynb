{
 "cells": [
  {
   "cell_type": "code",
   "execution_count": 17,
   "metadata": {},
   "outputs": [
    {
     "name": "stdout",
     "output_type": "stream",
     "text": [
      "The bigdata extension is already loaded. To reload it, use:\n",
      "  %reload_ext bigdata\n"
     ]
    }
   ],
   "source": [
    "%load_ext bigdata\n",
    "%hive_start\n",
    "%timeout 300"
   ]
  },
  {
   "cell_type": "code",
   "execution_count": 18,
   "metadata": {},
   "outputs": [
    {
     "name": "stdout",
     "output_type": "stream",
     "text": [
      "DROP TABLE IF EXISTS tbl0;\n",
      "OK\n",
      "Time taken: 14.653 seconds\n",
      "CREATE TABLE tbl0 (\n",
      "    c1 INT,\n",
      "    c2 STRING,\n",
      "    c3 INT,\n",
      "    c4 DATE,\n",
      "    c5 ARRAY<CHAR(1)>, \n",
      "    c6 MAP<STRING, INT>\n",
      ")\n",
      "ROW FORMAT DELIMITED \n",
      "FIELDS TERMINATED BY ','\n",
      "COLLECTION ITEMS TERMINATED BY ':'\n",
      "MAP KEYS TERMINATED BY '#'\n",
      "LINES TERMINATED BY '\\n';\n",
      "OK\n",
      "Time taken: 1.112 seconds\n",
      "LOAD DATA LOCAL INPATH 'tbl0.csv' INTO TABLE tbl0;\n",
      "Loading data to table default.tbl0\n",
      "OK\n",
      "Time taken: 1.799 seconds\n",
      "DROP TABLE IF EXISTS tbl1;\n",
      "OK\n",
      "Time taken: 0.25 seconds\n",
      "CREATE TABLE tbl1 (\n",
      "    c1 INT,\n",
      "    c2 INT,\n",
      "    c3 STRING,\n",
      "    c4 MAP<STRING, INT>\n",
      ")\n",
      "ROW FORMAT DELIMITED \n",
      "FIELDS TERMINATED BY ','\n",
      "COLLECTION ITEMS TERMINATED BY ':'\n",
      "MAP KEYS TERMINATED BY '#'\n",
      "LINES TERMINATED BY '\\n';\n",
      "OK\n",
      "Time taken: 0.098 seconds\n",
      "LOAD DATA LOCAL INPATH 'tbl1.csv' INTO TABLE tbl1;\n",
      "Loading data to table default.tbl1\n",
      "OK\n",
      "Time taken: 1.107 seconds\n"
     ]
    }
   ],
   "source": [
    "%%hive\n",
    "DROP TABLE IF EXISTS tbl0;\n",
    "CREATE TABLE tbl0 (\n",
    "    c1 INT,\n",
    "    c2 STRING,\n",
    "    c3 INT,\n",
    "    c4 DATE,\n",
    "    c5 ARRAY<CHAR(1)>, \n",
    "    c6 MAP<STRING, INT>\n",
    ")\n",
    "ROW FORMAT DELIMITED \n",
    "FIELDS TERMINATED BY ','\n",
    "COLLECTION ITEMS TERMINATED BY ':'\n",
    "MAP KEYS TERMINATED BY '#'\n",
    "LINES TERMINATED BY '\\n';\n",
    "LOAD DATA LOCAL INPATH 'tbl0.csv' INTO TABLE tbl0;\n",
    "DROP TABLE IF EXISTS tbl1;\n",
    "CREATE TABLE tbl1 (\n",
    "    c1 INT,\n",
    "    c2 INT,\n",
    "    c3 STRING,\n",
    "    c4 MAP<STRING, INT>\n",
    ")\n",
    "ROW FORMAT DELIMITED \n",
    "FIELDS TERMINATED BY ','\n",
    "COLLECTION ITEMS TERMINATED BY ':'\n",
    "MAP KEYS TERMINATED BY '#'\n",
    "LINES TERMINATED BY '\\n';\n",
    "LOAD DATA LOCAL INPATH 'tbl1.csv' INTO TABLE tbl1;"
   ]
  },
  {
   "cell_type": "code",
   "execution_count": 73,
   "metadata": {},
   "outputs": [
    {
     "name": "stdout",
     "output_type": "stream",
     "text": [
      "SELECT t.* \n",
      "FROM (SELECT YEAR(c4),explode(c5) FROM tbl0) t;\n",
      "FAILED: SemanticException [Error 10081]: UDTF's are not supported outside the SELECT clause, nor nested in expressions\n"
     ]
    }
   ],
   "source": [
    "%%hive\n",
    "SELECT t.* \n",
    "FROM (SELECT YEAR(c4),explode(c5) FROM tbl0) t;"
   ]
  },
  {
   "cell_type": "code",
   "execution_count": 58,
   "metadata": {},
   "outputs": [
    {
     "name": "stdout",
     "output_type": "stream",
     "text": [
      "SHOW TABLES;\n",
      "OK\n",
      "tbl0\n",
      "tbl1\n",
      "Time taken: 0.065 seconds, Fetched: 2 row(s)\n"
     ]
    }
   ],
   "source": [
    "%%hive\n",
    "SHOW TABLES;"
   ]
  },
  {
   "cell_type": "code",
   "execution_count": 66,
   "metadata": {},
   "outputs": [
    {
     "name": "stdout",
     "output_type": "stream",
     "text": [
      "SELECT DISTINCT t.* \n",
      "FROM (SELECT c4,explode(c5) FROM tbl0) t;\n",
      "FAILED: SemanticException [Error 10081]: UDTF's are not supported outside the SELECT clause, nor nested in expressions\n"
     ]
    }
   ],
   "source": [
    "%%hive\n",
    "SELECT DISTINCT t.* \n",
    "FROM (SELECT c4,explode(c5) FROM tbl0) t;"
   ]
  },
  {
   "cell_type": "code",
   "execution_count": 76,
   "metadata": {},
   "outputs": [
    {
     "name": "stdout",
     "output_type": "stream",
     "text": [
      "SHOW TABLES;\n",
      "OK\n",
      "let_by_year\n",
      "tbl0\n",
      "tbl1\n",
      "Time taken: 0.061 seconds, Fetched: 3 row(s)\n"
     ]
    }
   ],
   "source": [
    "%%hive\n",
    "SHOW TABLES;"
   ]
  },
  {
   "cell_type": "code",
   "execution_count": 81,
   "metadata": {},
   "outputs": [
    {
     "name": "stdout",
     "output_type": "stream",
     "text": [
      "SELECT c4,explode(c5) from tbl0;\n",
      "FAILED: SemanticException [Error 10081]: UDTF's are not supported outside the SELECT clause, nor nested in expressions\n"
     ]
    }
   ],
   "source": [
    "%%hive\n",
    "SELECT explode(c5) from tbl0;"
   ]
  },
  {
   "cell_type": "code",
   "execution_count": 3,
   "metadata": {},
   "outputs": [
    {
     "name": "stdout",
     "output_type": "stream",
     "text": [
      "SELECT t.c2, concat_ws(':', collect_set(CAST(t.c1 AS VARCHAR(10))))\n",
      "FROM (SELECT c2, c1\n",
      "FROM tbl0) t\n",
      "GROUP BY t.c2;\n",
      "WARNING: Hive-on-MR is deprecated in Hive 2 and may not be available in the future versions. Consider using a different execution engine (i.e. spark, tez) or using Hive 1.X releases.\n",
      "Query ID = root_20200306134755_f370ea54-bdce-41f7-b7d0-0657f9e2408c\n",
      "Total jobs = 1\n",
      "Launching Job 1 out of 1\n",
      "Number of reduce tasks not specified. Estimated from input data size: 1\n",
      "In order to change the average load for a reducer (in bytes):\n",
      "  set hive.exec.reducers.bytes.per.reducer=<number>\n",
      "In order to limit the maximum number of reducers:\n",
      "  set hive.exec.reducers.max=<number>\n",
      "In order to set a constant number of reducers:\n",
      "  set mapreduce.job.reduces=<number>\n",
      "Starting Job = job_1583494662535_0019, Tracking URL = http://a72bcf2055fd:8088/proxy/application_1583494662535_0019/\n",
      "Kill Command = /usr/local/hadoop/bin/hadoop job  -kill job_1583494662535_0019\n",
      "Hadoop job information for Stage-1: number of mappers: 1; number of reducers: 1\n",
      "2020-03-06 13:48:10,590 Stage-1 map = 0%,  reduce = 0%\n",
      "2020-03-06 13:48:17,751 Stage-1 map = 100%,  reduce = 0%, Cumulative CPU 4.63 sec\n",
      "2020-03-06 13:48:26,833 Stage-1 map = 100%,  reduce = 100%, Cumulative CPU 9.08 sec\n",
      "MapReduce Total cumulative CPU time: 9 seconds 80 msec\n",
      "Ended Job = job_1583494662535_0019\n",
      "MapReduce Jobs Launched: \n",
      "Stage-Stage-1: Map: 1  Reduce: 1   Cumulative CPU: 9.08 sec   HDFS Read: 10656 HDFS Write: 164 SUCCESS\n",
      "Total MapReduce CPU Time Spent: 9 seconds 80 msec\n",
      "OK\n",
      "A\t6\n",
      "B\t7:9:10\n",
      "C\t2:5:8\n",
      "D\t1:3:4\n",
      "Time taken: 32.203 seconds, Fetched: 4 row(s)\n"
     ]
    }
   ],
   "source": [
    "%%hive\n",
    "SELECT t.c2, concat_ws(':', collect_set(CAST(t.c1 AS VARCHAR(10))))\n",
    "FROM (SELECT c2, c1\n",
    "FROM tbl0) t\n",
    "GROUP BY t.c2;"
   ]
  },
  {
   "cell_type": "code",
   "execution_count": 22,
   "metadata": {},
   "outputs": [],
   "source": [
    "%hive_quit"
   ]
  },
  {
   "cell_type": "code",
   "execution_count": 21,
   "metadata": {},
   "outputs": [
    {
     "name": "stdout",
     "output_type": "stream",
     "text": [
      "--\n",
      "-- Escriba una consulta que retorne la columna `tbl0.c1` y el valor \n",
      "-- correspondiente de la columna `tbl1.c4` para la columna `tbl0.c2`.\n",
      "--\n",
      "-- Escriba el resultado a la carpeta `output` de directorio de trabajo.\n",
      "--\n",
      "SELECT t0.c1, t0.c2, t1.v\n",
      "FROM\n",
      "(SELECT c1,c2 FROM tbl0) t0 LEFT JOIN\n",
      "(SELECT c1, k,v FROM tbl1 LATERAL VIEW\n",
      "EXPLODE(c4) tbl1 as k,v) t1 ON (t0.c1 = t1.c1 AND t0.c2 = t1.k);\n",
      "WARNING: Hive-on-MR is deprecated in Hive 2 and may not be available in the future versions. Consider using a different execution engine (i.e. spark, tez) or using Hive 1.X releases.\n",
      "Query ID = root_20200306144715_dd979292-8318-4bec-ad9b-4a62f42ec3f7\n",
      "Total jobs = 1\n",
      "SLF4J: Class path contains multiple SLF4J bindings.\n",
      "SLF4J: Found binding in [jar:file:/usr/local/hive/lib/log4j-slf4j-impl-2.6.2.jar!/org/slf4j/impl/StaticLoggerBinder.class]\n",
      "SLF4J: Found binding in [jar:file:/usr/local/hadoop/share/hadoop/common/lib/slf4j-log4j12-1.7.10.jar!/org/slf4j/impl/StaticLoggerBinder.class]\n",
      "SLF4J: See http://www.slf4j.org/codes.html#multiple_bindings for an explanation.\n",
      "SLF4J: Actual binding is of type [org.apache.logging.slf4j.Log4jLoggerFactory]\n",
      "2020-03-06 14:47:28\tStarting to launch local task to process map join;\tmaximum memory = 477626368\n",
      "2020-03-06 14:47:30\tDump the side-table for tag: 1 with group count: 50 into file: file:/tmp/root/e2db95c2-3180-4b5a-996e-36e9ed91f1bf/hive_2020-03-06_14-47-15_481_8071450903432917075-1/-local-10003/HashTable-Stage-3/MapJoin-mapfile01--.hashtable\n",
      "2020-03-06 14:47:31\tUploaded 1 File to: file:/tmp/root/e2db95c2-3180-4b5a-996e-36e9ed91f1bf/hive_2020-03-06_14-47-15_481_8071450903432917075-1/-local-10003/HashTable-Stage-3/MapJoin-mapfile01--.hashtable (1365 bytes)\n",
      "2020-03-06 14:47:31\tEnd of local task; Time Taken: 3.111 sec.\n",
      "Execution completed successfully\n",
      "MapredLocal task succeeded\n",
      "Launching Job 1 out of 1\n",
      "Number of reduce tasks is set to 0 since there's no reduce operator\n",
      "Starting Job = job_1583494662535_0023, Tracking URL = http://a72bcf2055fd:8088/proxy/application_1583494662535_0023/\n",
      "Kill Command = /usr/local/hadoop/bin/hadoop job  -kill job_1583494662535_0023\n",
      "Hadoop job information for Stage-3: number of mappers: 1; number of reducers: 0\n",
      "2020-03-06 14:47:49,222 Stage-3 map = 0%,  reduce = 0%\n",
      "2020-03-06 14:47:59,581 Stage-3 map = 100%,  reduce = 0%, Cumulative CPU 3.38 sec\n",
      "MapReduce Total cumulative CPU time: 3 seconds 380 msec\n",
      "Ended Job = job_1583494662535_0023\n",
      "MapReduce Jobs Launched: \n",
      "Stage-Stage-3: Map: 1   Cumulative CPU: 3.38 sec   HDFS Read: 7111 HDFS Write: 268 SUCCESS\n",
      "Total MapReduce CPU Time Spent: 3 seconds 380 msec\n",
      "OK\n",
      "1\tD\t3\n",
      "2\tC\t0\n",
      "3\tD\t1\n",
      "4\tD\t5\n",
      "5\tC\t2\n",
      "6\tA\t4\n",
      "7\tB\t5\n",
      "8\tC\t5\n",
      "9\tB\t4\n",
      "10\tB\t3\n",
      "Time taken: 45.536 seconds, Fetched: 10 row(s)\n"
     ]
    }
   ],
   "source": [
    "%%hive\n",
    "--\n",
    "-- Escriba una consulta que retorne la columna `tbl0.c1` y el valor \n",
    "-- correspondiente de la columna `tbl1.c4` para la columna `tbl0.c2`.\n",
    "--\n",
    "-- Escriba el resultado a la carpeta `output` de directorio de trabajo.\n",
    "--\n",
    "SELECT t0.c1, t0.c2, t1.v\n",
    "FROM\n",
    "(SELECT c1,c2 FROM tbl0) t0 LEFT JOIN\n",
    "(SELECT c1, k,v FROM tbl1 LATERAL VIEW\n",
    "EXPLODE(c4) tbl1 as k,v) t1 ON (t0.c1 = t1.c1 AND t0.c2 = t1.k);"
   ]
  },
  {
   "cell_type": "code",
   "execution_count": null,
   "metadata": {},
   "outputs": [],
   "source": []
  }
 ],
 "metadata": {
  "kernelspec": {
   "display_name": "Python 3",
   "language": "python",
   "name": "python3"
  },
  "language_info": {
   "codemirror_mode": {
    "name": "ipython",
    "version": 3
   },
   "file_extension": ".py",
   "mimetype": "text/x-python",
   "name": "python",
   "nbconvert_exporter": "python",
   "pygments_lexer": "ipython3",
   "version": "3.6.8"
  }
 },
 "nbformat": 4,
 "nbformat_minor": 4
}
