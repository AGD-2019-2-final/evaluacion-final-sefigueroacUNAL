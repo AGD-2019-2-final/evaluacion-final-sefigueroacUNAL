{
 "cells": [
  {
   "cell_type": "code",
   "execution_count": 1,
   "metadata": {},
   "outputs": [],
   "source": [
    "%load_ext bigdata\n",
    "%hive_start\n",
    "%timeout 300"
   ]
  },
  {
   "cell_type": "code",
   "execution_count": 2,
   "metadata": {},
   "outputs": [
    {
     "name": "stdout",
     "output_type": "stream",
     "text": [
      "DROP TABLE IF EXISTS tbl0;\n",
      "OK\n",
      "Time taken: 17.351 seconds\n",
      "CREATE TABLE tbl0 (\n",
      "    c1 INT,\n",
      "    c2 STRING,\n",
      "    c3 INT,\n",
      "    c4 DATE,\n",
      "    c5 ARRAY<CHAR(1)>, \n",
      "    c6 MAP<STRING, INT>\n",
      ")\n",
      "ROW FORMAT DELIMITED \n",
      "FIELDS TERMINATED BY ','\n",
      "COLLECTION ITEMS TERMINATED BY ':'\n",
      "MAP KEYS TERMINATED BY '#'\n",
      "LINES TERMINATED BY '\\n';\n",
      "OK\n",
      "Time taken: 1.385 seconds\n",
      "LOAD DATA LOCAL INPATH 'tbl0.csv' INTO TABLE tbl0;\n",
      "Loading data to table default.tbl0\n",
      "OK\n",
      "Time taken: 1.947 seconds\n",
      "DROP TABLE IF EXISTS tbl1;\n",
      "OK\n",
      "Time taken: 0.23 seconds\n",
      "CREATE TABLE tbl1 (\n",
      "    c1 INT,\n",
      "    c2 INT,\n",
      "    c3 STRING,\n",
      "    c4 MAP<STRING, INT>\n",
      ")\n",
      "ROW FORMAT DELIMITED \n",
      "FIELDS TERMINATED BY ','\n",
      "COLLECTION ITEMS TERMINATED BY ':'\n",
      "MAP KEYS TERMINATED BY '#'\n",
      "LINES TERMINATED BY '\\n';\n",
      "OK\n",
      "Time taken: 0.098 seconds\n",
      "LOAD DATA LOCAL INPATH 'tbl1.csv' INTO TABLE tbl1;\n",
      "Loading data to table default.tbl1\n",
      "OK\n",
      "Time taken: 1.141 seconds\n"
     ]
    }
   ],
   "source": [
    "%%hive\n",
    "DROP TABLE IF EXISTS tbl0;\n",
    "CREATE TABLE tbl0 (\n",
    "    c1 INT,\n",
    "    c2 STRING,\n",
    "    c3 INT,\n",
    "    c4 DATE,\n",
    "    c5 ARRAY<CHAR(1)>, \n",
    "    c6 MAP<STRING, INT>\n",
    ")\n",
    "ROW FORMAT DELIMITED \n",
    "FIELDS TERMINATED BY ','\n",
    "COLLECTION ITEMS TERMINATED BY ':'\n",
    "MAP KEYS TERMINATED BY '#'\n",
    "LINES TERMINATED BY '\\n';\n",
    "LOAD DATA LOCAL INPATH 'tbl0.csv' INTO TABLE tbl0;\n",
    "DROP TABLE IF EXISTS tbl1;\n",
    "CREATE TABLE tbl1 (\n",
    "    c1 INT,\n",
    "    c2 INT,\n",
    "    c3 STRING,\n",
    "    c4 MAP<STRING, INT>\n",
    ")\n",
    "ROW FORMAT DELIMITED \n",
    "FIELDS TERMINATED BY ','\n",
    "COLLECTION ITEMS TERMINATED BY ':'\n",
    "MAP KEYS TERMINATED BY '#'\n",
    "LINES TERMINATED BY '\\n';\n",
    "LOAD DATA LOCAL INPATH 'tbl1.csv' INTO TABLE tbl1;"
   ]
  },
  {
   "cell_type": "code",
   "execution_count": 73,
   "metadata": {},
   "outputs": [
    {
     "name": "stdout",
     "output_type": "stream",
     "text": [
      "SELECT t.* \n",
      "FROM (SELECT YEAR(c4),explode(c5) FROM tbl0) t;\n",
      "FAILED: SemanticException [Error 10081]: UDTF's are not supported outside the SELECT clause, nor nested in expressions\n"
     ]
    }
   ],
   "source": [
    "%%hive\n",
    "SELECT t.* \n",
    "FROM (SELECT YEAR(c4),explode(c5) FROM tbl0) t;"
   ]
  },
  {
   "cell_type": "code",
   "execution_count": 58,
   "metadata": {},
   "outputs": [
    {
     "name": "stdout",
     "output_type": "stream",
     "text": [
      "SHOW TABLES;\n",
      "OK\n",
      "tbl0\n",
      "tbl1\n",
      "Time taken: 0.065 seconds, Fetched: 2 row(s)\n"
     ]
    }
   ],
   "source": [
    "%%hive\n",
    "SHOW TABLES;"
   ]
  },
  {
   "cell_type": "code",
   "execution_count": 66,
   "metadata": {},
   "outputs": [
    {
     "name": "stdout",
     "output_type": "stream",
     "text": [
      "SELECT DISTINCT t.* \n",
      "FROM (SELECT c4,explode(c5) FROM tbl0) t;\n",
      "FAILED: SemanticException [Error 10081]: UDTF's are not supported outside the SELECT clause, nor nested in expressions\n"
     ]
    }
   ],
   "source": [
    "%%hive\n",
    "SELECT DISTINCT t.* \n",
    "FROM (SELECT c4,explode(c5) FROM tbl0) t;"
   ]
  },
  {
   "cell_type": "code",
   "execution_count": 76,
   "metadata": {},
   "outputs": [
    {
     "name": "stdout",
     "output_type": "stream",
     "text": [
      "SHOW TABLES;\n",
      "OK\n",
      "let_by_year\n",
      "tbl0\n",
      "tbl1\n",
      "Time taken: 0.061 seconds, Fetched: 3 row(s)\n"
     ]
    }
   ],
   "source": [
    "%%hive\n",
    "SHOW TABLES;"
   ]
  },
  {
   "cell_type": "code",
   "execution_count": 81,
   "metadata": {},
   "outputs": [
    {
     "name": "stdout",
     "output_type": "stream",
     "text": [
      "SELECT c4,explode(c5) from tbl0;\n",
      "FAILED: SemanticException [Error 10081]: UDTF's are not supported outside the SELECT clause, nor nested in expressions\n"
     ]
    }
   ],
   "source": [
    "%%hive\n",
    "SELECT explode(c5) from tbl0;"
   ]
  },
  {
   "cell_type": "code",
   "execution_count": 3,
   "metadata": {},
   "outputs": [
    {
     "name": "stdout",
     "output_type": "stream",
     "text": [
      "SELECT t.c2, concat_ws(':', collect_set(CAST(t.c1 AS VARCHAR(10))))\n",
      "FROM (SELECT c2, c1\n",
      "FROM tbl0) t\n",
      "GROUP BY t.c2;\n",
      "WARNING: Hive-on-MR is deprecated in Hive 2 and may not be available in the future versions. Consider using a different execution engine (i.e. spark, tez) or using Hive 1.X releases.\n",
      "Query ID = root_20200306134755_f370ea54-bdce-41f7-b7d0-0657f9e2408c\n",
      "Total jobs = 1\n",
      "Launching Job 1 out of 1\n",
      "Number of reduce tasks not specified. Estimated from input data size: 1\n",
      "In order to change the average load for a reducer (in bytes):\n",
      "  set hive.exec.reducers.bytes.per.reducer=<number>\n",
      "In order to limit the maximum number of reducers:\n",
      "  set hive.exec.reducers.max=<number>\n",
      "In order to set a constant number of reducers:\n",
      "  set mapreduce.job.reduces=<number>\n",
      "Starting Job = job_1583494662535_0019, Tracking URL = http://a72bcf2055fd:8088/proxy/application_1583494662535_0019/\n",
      "Kill Command = /usr/local/hadoop/bin/hadoop job  -kill job_1583494662535_0019\n",
      "Hadoop job information for Stage-1: number of mappers: 1; number of reducers: 1\n",
      "2020-03-06 13:48:10,590 Stage-1 map = 0%,  reduce = 0%\n",
      "2020-03-06 13:48:17,751 Stage-1 map = 100%,  reduce = 0%, Cumulative CPU 4.63 sec\n",
      "2020-03-06 13:48:26,833 Stage-1 map = 100%,  reduce = 100%, Cumulative CPU 9.08 sec\n",
      "MapReduce Total cumulative CPU time: 9 seconds 80 msec\n",
      "Ended Job = job_1583494662535_0019\n",
      "MapReduce Jobs Launched: \n",
      "Stage-Stage-1: Map: 1  Reduce: 1   Cumulative CPU: 9.08 sec   HDFS Read: 10656 HDFS Write: 164 SUCCESS\n",
      "Total MapReduce CPU Time Spent: 9 seconds 80 msec\n",
      "OK\n",
      "A\t6\n",
      "B\t7:9:10\n",
      "C\t2:5:8\n",
      "D\t1:3:4\n",
      "Time taken: 32.203 seconds, Fetched: 4 row(s)\n"
     ]
    }
   ],
   "source": [
    "%%hive\n",
    "SELECT t.c2, concat_ws(':', collect_set(CAST(t.c1 AS VARCHAR(10))))\n",
    "FROM (SELECT c2, c1\n",
    "FROM tbl0) t\n",
    "GROUP BY t.c2;"
   ]
  },
  {
   "cell_type": "code",
   "execution_count": 4,
   "metadata": {},
   "outputs": [],
   "source": [
    "%hive_quit"
   ]
  },
  {
   "cell_type": "code",
   "execution_count": null,
   "metadata": {},
   "outputs": [],
   "source": []
  }
 ],
 "metadata": {
  "kernelspec": {
   "display_name": "Python 3",
   "language": "python",
   "name": "python3"
  },
  "language_info": {
   "codemirror_mode": {
    "name": "ipython",
    "version": 3
   },
   "file_extension": ".py",
   "mimetype": "text/x-python",
   "name": "python",
   "nbconvert_exporter": "python",
   "pygments_lexer": "ipython3",
   "version": "3.6.8"
  }
 },
 "nbformat": 4,
 "nbformat_minor": 4
}
