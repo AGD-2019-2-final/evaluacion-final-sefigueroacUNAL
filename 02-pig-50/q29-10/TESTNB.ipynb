{
 "cells": [
  {
   "cell_type": "code",
   "execution_count": 1,
   "metadata": {},
   "outputs": [
    {
     "name": "stdout",
     "output_type": "stream",
     "text": [
      "put: `data.csv': File exists\n",
      "Found 2 items\n",
      "-rw-r--r--   1 root supergroup        615 2020-03-06 00:39 data.csv\n",
      "drwxr-xr-x   - root supergroup          0 2020-03-06 01:18 output\n"
     ]
    }
   ],
   "source": [
    "!hadoop fs -put *.csv\n",
    "!hadoop fs -ls"
   ]
  },
  {
   "cell_type": "code",
   "execution_count": 20,
   "metadata": {},
   "outputs": [
    {
     "name": "stdout",
     "output_type": "stream",
     "text": [
      "2020-03-06 02:54:04,705 [main] INFO  org.apache.hadoop.conf.Configuration.deprecation - mapred.job.tracker is deprecated. Instead, use mapreduce.jobtracker.address\n",
      "2020-03-06 02:54:07,162 [main] INFO  org.apache.hadoop.yarn.client.RMProxy - Connecting to ResourceManager at /0.0.0.0:8032\n",
      "2020-03-06 02:54:07,480 [main] INFO  org.apache.hadoop.conf.Configuration.deprecation - mapred.job.reduce.markreset.buffer.percent is deprecated. Instead, use mapreduce.reduce.markreset.buffer.percent\n",
      "2020-03-06 02:54:07,485 [main] INFO  org.apache.hadoop.conf.Configuration.deprecation - mapred.output.compress is deprecated. Instead, use mapreduce.output.fileoutputformat.compress\n",
      "2020-03-06 02:54:07,510 [main] INFO  org.apache.hadoop.conf.Configuration.deprecation - mapred.submit.replication is deprecated. Instead, use mapreduce.client.submit.file.replication\n",
      "2020-03-06 02:54:08,109 [main] INFO  org.apache.hadoop.conf.Configuration.deprecation - mapred.job.tracker.http.address is deprecated. Instead, use mapreduce.jobtracker.http.address\n",
      "2020-03-06 02:54:08,125 [JobControl] INFO  org.apache.hadoop.yarn.client.RMProxy - Connecting to ResourceManager at /0.0.0.0:8032\n",
      "2020-03-06 02:54:08,176 [JobControl] INFO  org.apache.hadoop.conf.Configuration.deprecation - mapred.task.id is deprecated. Instead, use mapreduce.task.attempt.id\n",
      "2020-03-06 02:54:08,310 [JobControl] WARN  org.apache.hadoop.mapreduce.JobResourceUploader - No job jar file set.  User classes may not be found. See Job or Job#setJar(String).\n",
      "2020-03-06 02:54:08,368 [JobControl] INFO  org.apache.hadoop.mapreduce.lib.input.FileInputFormat - Total input files to process : 1\n",
      "2020-03-06 02:54:08,493 [JobControl] INFO  org.apache.hadoop.mapreduce.JobSubmitter - number of splits:1\n",
      "2020-03-06 02:54:08,699 [JobControl] INFO  org.apache.hadoop.mapreduce.JobSubmitter - Submitting tokens for job: job_1583452065557_0012\n",
      "2020-03-06 02:54:08,981 [JobControl] INFO  org.apache.hadoop.mapred.YARNRunner - Job jar is not present. Not adding any jar to the list of resources.\n",
      "2020-03-06 02:54:09,170 [JobControl] INFO  org.apache.hadoop.yarn.client.api.impl.YarnClientImpl - Submitted application application_1583452065557_0012\n",
      "2020-03-06 02:54:09,229 [JobControl] INFO  org.apache.hadoop.mapreduce.Job - The url to track the job: http://2913e0f2f35b:8088/proxy/application_1583452065557_0012/\n",
      "2020-03-06 02:54:29,389 [main] INFO  org.apache.hadoop.yarn.client.RMProxy - Connecting to ResourceManager at /0.0.0.0:8032\n",
      "2020-03-06 02:54:29,400 [main] INFO  org.apache.hadoop.mapred.ClientServiceDelegate - Application state is completed. FinalApplicationStatus=SUCCEEDED. Redirecting to job history server\n",
      "2020-03-06 02:54:29,612 [main] INFO  org.apache.hadoop.yarn.client.RMProxy - Connecting to ResourceManager at /0.0.0.0:8032\n",
      "2020-03-06 02:54:29,620 [main] INFO  org.apache.hadoop.mapred.ClientServiceDelegate - Application state is completed. FinalApplicationStatus=SUCCEEDED. Redirecting to job history server\n",
      "2020-03-06 02:54:29,677 [main] INFO  org.apache.hadoop.conf.Configuration.deprecation - mapred.reduce.tasks is deprecated. Instead, use mapreduce.job.reduces\n",
      "2020-03-06 02:54:29,681 [main] INFO  org.apache.hadoop.yarn.client.RMProxy - Connecting to ResourceManager at /0.0.0.0:8032\n",
      "2020-03-06 02:54:29,688 [main] INFO  org.apache.hadoop.mapred.ClientServiceDelegate - Application state is completed. FinalApplicationStatus=SUCCEEDED. Redirecting to job history server\n",
      "2020-03-06 02:54:29,793 [main] INFO  org.apache.hadoop.yarn.client.RMProxy - Connecting to ResourceManager at /0.0.0.0:8032\n",
      "2020-03-06 02:54:29,800 [main] INFO  org.apache.hadoop.mapred.ClientServiceDelegate - Application state is completed. FinalApplicationStatus=SUCCEEDED. Redirecting to job history server\n",
      "2020-03-06 02:54:29,869 [main] INFO  org.apache.hadoop.yarn.client.RMProxy - Connecting to ResourceManager at /0.0.0.0:8032\n",
      "2020-03-06 02:54:29,883 [main] INFO  org.apache.hadoop.mapred.ClientServiceDelegate - Application state is completed. FinalApplicationStatus=SUCCEEDED. Redirecting to job history server\n",
      "2020-03-06 02:54:29,971 [main] INFO  org.apache.hadoop.yarn.client.RMProxy - Connecting to ResourceManager at /0.0.0.0:8032\n",
      "2020-03-06 02:54:29,979 [main] INFO  org.apache.hadoop.mapred.ClientServiceDelegate - Application state is completed. FinalApplicationStatus=SUCCEEDED. Redirecting to job history server\n",
      "2020-03-06 02:54:30,093 [main] INFO  org.apache.hadoop.mapreduce.lib.input.FileInputFormat - Total input files to process : 1\n",
      "(1971-07-08,jul,07,7)\n",
      "(1974-05-23,may,05,5)\n",
      "(1973-04-22,abr,04,4)\n",
      "(1975-01-29,ene,01,1)\n",
      "(1974-07-03,jul,07,7)\n",
      "(1974-10-18,oct,10,10)\n",
      "(1970-10-05,oct,10,10)\n",
      "(1969-02-24,feb,02,2)\n",
      "(1974-10-17,oct,10,10)\n",
      "(1975-02-28,feb,02,2)\n",
      "(1969-12-07,dic,12,12)\n",
      "(1973-12-24,dic,12,12)\n",
      "(1970-08-27,ago,08,8)\n",
      "(1972-12-12,dic,12,12)\n",
      "(1970-07-01,jul,07,7)\n",
      "(1974-02-11,feb,02,2)\n",
      "(1973-04-01,abr,04,4)\n",
      "(1973-04-29,abr,04,4)\n",
      "2020-03-06 02:54:30,299 [main] INFO  org.apache.hadoop.conf.Configuration.deprecation - mapred.textoutputformat.separator is deprecated. Instead, use mapreduce.output.textoutputformat.separator\n",
      "2020-03-06 02:54:30,426 [main] INFO  org.apache.hadoop.yarn.client.RMProxy - Connecting to ResourceManager at /0.0.0.0:8032\n",
      "2020-03-06 02:54:31,071 [JobControl] INFO  org.apache.hadoop.yarn.client.RMProxy - Connecting to ResourceManager at /0.0.0.0:8032\n",
      "2020-03-06 02:54:31,112 [JobControl] WARN  org.apache.hadoop.mapreduce.JobResourceUploader - No job jar file set.  User classes may not be found. See Job or Job#setJar(String).\n",
      "2020-03-06 02:54:31,145 [JobControl] INFO  org.apache.hadoop.mapreduce.lib.input.FileInputFormat - Total input files to process : 1\n",
      "2020-03-06 02:54:31,637 [JobControl] INFO  org.apache.hadoop.mapreduce.JobSubmitter - number of splits:1\n",
      "2020-03-06 02:54:32,100 [JobControl] INFO  org.apache.hadoop.mapreduce.JobSubmitter - Submitting tokens for job: job_1583452065557_0013\n",
      "2020-03-06 02:54:32,110 [JobControl] INFO  org.apache.hadoop.mapred.YARNRunner - Job jar is not present. Not adding any jar to the list of resources.\n",
      "2020-03-06 02:54:32,213 [JobControl] INFO  org.apache.hadoop.yarn.client.api.impl.YarnClientImpl - Submitted application application_1583452065557_0013\n",
      "2020-03-06 02:54:32,220 [JobControl] INFO  org.apache.hadoop.mapreduce.Job - The url to track the job: http://2913e0f2f35b:8088/proxy/application_1583452065557_0013/\n",
      "2020-03-06 02:54:52,380 [main] INFO  org.apache.hadoop.yarn.client.RMProxy - Connecting to ResourceManager at /0.0.0.0:8032\n",
      "2020-03-06 02:54:52,398 [main] INFO  org.apache.hadoop.mapred.ClientServiceDelegate - Application state is completed. FinalApplicationStatus=SUCCEEDED. Redirecting to job history server\n",
      "2020-03-06 02:54:52,602 [main] INFO  org.apache.hadoop.yarn.client.RMProxy - Connecting to ResourceManager at /0.0.0.0:8032\n",
      "2020-03-06 02:54:52,624 [main] INFO  org.apache.hadoop.mapred.ClientServiceDelegate - Application state is completed. FinalApplicationStatus=SUCCEEDED. Redirecting to job history server\n",
      "2020-03-06 02:54:52,717 [main] INFO  org.apache.hadoop.yarn.client.RMProxy - Connecting to ResourceManager at /0.0.0.0:8032\n",
      "2020-03-06 02:54:52,723 [main] INFO  org.apache.hadoop.mapred.ClientServiceDelegate - Application state is completed. FinalApplicationStatus=SUCCEEDED. Redirecting to job history server\n",
      "2020-03-06 02:54:52,851 [main] INFO  org.apache.hadoop.yarn.client.RMProxy - Connecting to ResourceManager at /0.0.0.0:8032\n",
      "2020-03-06 02:54:52,861 [main] INFO  org.apache.hadoop.mapred.ClientServiceDelegate - Application state is completed. FinalApplicationStatus=SUCCEEDED. Redirecting to job history server\n",
      "2020-03-06 02:54:52,968 [main] INFO  org.apache.hadoop.yarn.client.RMProxy - Connecting to ResourceManager at /0.0.0.0:8032\n",
      "2020-03-06 02:54:52,988 [main] INFO  org.apache.hadoop.mapred.ClientServiceDelegate - Application state is completed. FinalApplicationStatus=SUCCEEDED. Redirecting to job history server\n",
      "2020-03-06 02:54:53,064 [main] INFO  org.apache.hadoop.yarn.client.RMProxy - Connecting to ResourceManager at /0.0.0.0:8032\n",
      "2020-03-06 02:54:53,075 [main] INFO  org.apache.hadoop.mapred.ClientServiceDelegate - Application state is completed. FinalApplicationStatus=SUCCEEDED. Redirecting to job history server\n"
     ]
    }
   ],
   "source": [
    "!pig -execute 'run question.pig'"
   ]
  },
  {
   "cell_type": "code",
   "execution_count": 18,
   "metadata": {},
   "outputs": [
    {
     "name": "stdout",
     "output_type": "stream",
     "text": [
      "2020-03-06 02:52:44,663 [main] INFO  org.apache.hadoop.conf.Configuration.deprecation - mapred.job.tracker is deprecated. Instead, use mapreduce.jobtracker.address\n",
      "2020-03-06 02:52:45,960 [main] ERROR org.apache.pig.PigServer - exception during parsing: Error during parsing. <line 1, column 0>  Syntax error, unexpected symbol at or near 'A'\n",
      "Failed to parse: <line 1, column 0>  Syntax error, unexpected symbol at or near 'A'\n",
      "\tat org.apache.pig.parser.QueryParserDriver.parse(QueryParserDriver.java:244)\n",
      "\tat org.apache.pig.parser.QueryParserDriver.parse(QueryParserDriver.java:182)\n",
      "\tat org.apache.pig.PigServer$Graph.parseQuery(PigServer.java:1820)\n",
      "\tat org.apache.pig.PigServer$Graph.access$000(PigServer.java:1528)\n",
      "\tat org.apache.pig.PigServer.parseAndBuild(PigServer.java:461)\n",
      "\tat org.apache.pig.PigServer.executeBatch(PigServer.java:486)\n",
      "\tat org.apache.pig.PigServer.executeBatch(PigServer.java:472)\n",
      "\tat org.apache.pig.tools.grunt.GruntParser.executeBatch(GruntParser.java:171)\n",
      "\tat org.apache.pig.tools.grunt.GruntParser.processDump(GruntParser.java:777)\n",
      "\tat org.apache.pig.tools.pigscript.parser.PigScriptParser.parse(PigScriptParser.java:383)\n",
      "\tat org.apache.pig.tools.grunt.GruntParser.loadScript(GruntParser.java:561)\n",
      "\tat org.apache.pig.tools.grunt.GruntParser.processScript(GruntParser.java:503)\n",
      "\tat org.apache.pig.tools.pigscript.parser.PigScriptParser.Script(PigScriptParser.java:1037)\n",
      "\tat org.apache.pig.tools.pigscript.parser.PigScriptParser.parse(PigScriptParser.java:561)\n",
      "\tat org.apache.pig.tools.grunt.GruntParser.parseStopOnError(GruntParser.java:230)\n",
      "\tat org.apache.pig.tools.grunt.GruntParser.parseStopOnError(GruntParser.java:205)\n",
      "\tat org.apache.pig.tools.grunt.Grunt.exec(Grunt.java:81)\n",
      "\tat org.apache.pig.Main.run(Main.java:531)\n",
      "\tat org.apache.pig.Main.main(Main.java:175)\n",
      "\tat sun.reflect.NativeMethodAccessorImpl.invoke0(Native Method)\n",
      "\tat sun.reflect.NativeMethodAccessorImpl.invoke(NativeMethodAccessorImpl.java:62)\n",
      "\tat sun.reflect.DelegatingMethodAccessorImpl.invoke(DelegatingMethodAccessorImpl.java:43)\n",
      "\tat java.lang.reflect.Method.invoke(Method.java:498)\n",
      "\tat org.apache.hadoop.util.RunJar.run(RunJar.java:239)\n",
      "\tat org.apache.hadoop.util.RunJar.main(RunJar.java:153)\n",
      "2020-03-06 02:52:45,967 [main] ERROR org.apache.pig.tools.grunt.Grunt - ERROR 1200: <line 1, column 0>  Syntax error, unexpected symbol at or near 'A'\n",
      "Details at logfile: /datalake/evaluacion-final-sefigueroacUNAL/02-pig-50/q29-10/pig_1583463163786.log\n"
     ]
    }
   ],
   "source": [
    "!pig -execute 'run script.pig'"
   ]
  },
  {
   "cell_type": "code",
   "execution_count": null,
   "metadata": {},
   "outputs": [],
   "source": []
  }
 ],
 "metadata": {
  "kernelspec": {
   "display_name": "Python 3",
   "language": "python",
   "name": "python3"
  },
  "language_info": {
   "codemirror_mode": {
    "name": "ipython",
    "version": 3
   },
   "file_extension": ".py",
   "mimetype": "text/x-python",
   "name": "python",
   "nbconvert_exporter": "python",
   "pygments_lexer": "ipython3",
   "version": "3.6.8"
  }
 },
 "nbformat": 4,
 "nbformat_minor": 4
}
