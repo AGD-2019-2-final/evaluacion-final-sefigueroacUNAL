{
 "cells": [
  {
   "cell_type": "code",
   "execution_count": 1,
   "metadata": {},
   "outputs": [
    {
     "name": "stdout",
     "output_type": "stream",
     "text": [
      "put: `data.tsv': File exists\n",
      "Found 2 items\n",
      "-rw-r--r--   1 root supergroup       1741 2020-03-03 22:09 data.tsv\n",
      "drwxr-xr-x   - root supergroup          0 2020-03-03 23:52 output\n"
     ]
    }
   ],
   "source": [
    "!hadoop fs -put *.tsv\n",
    "!hadoop fs -ls"
   ]
  },
  {
   "cell_type": "code",
   "execution_count": 3,
   "metadata": {},
   "outputs": [
    {
     "name": "stdout",
     "output_type": "stream",
     "text": [
      "2020-03-04 00:15:26,191 [main] INFO  org.apache.hadoop.conf.Configuration.deprecation - mapred.job.tracker is deprecated. Instead, use mapreduce.jobtracker.address\n",
      "2020-03-04 00:15:38,044 [main] ERROR org.apache.pig.PigServer - exception during parsing: Error during parsing. Pig script failed to parse: <line 21, column 38> Invalid scalar projection: G : A column needs to be projected from a relation for it to be used as a scalar\n",
      "Failed to parse: Pig script failed to parse: <line 21, column 38> Invalid scalar projection: G : A column needs to be projected from a relation for it to be used as a scalar\n",
      "\tat org.apache.pig.parser.QueryParserDriver.parse(QueryParserDriver.java:199)\n",
      "\tat org.apache.pig.PigServer$Graph.parseQuery(PigServer.java:1820)\n",
      "\tat org.apache.pig.PigServer$Graph.access$000(PigServer.java:1528)\n",
      "\tat org.apache.pig.PigServer.parseAndBuild(PigServer.java:461)\n",
      "\tat org.apache.pig.PigServer.executeBatch(PigServer.java:486)\n",
      "\tat org.apache.pig.PigServer.executeBatch(PigServer.java:472)\n",
      "\tat org.apache.pig.tools.grunt.GruntParser.executeBatch(GruntParser.java:171)\n",
      "\tat org.apache.pig.tools.grunt.GruntParser.processDump(GruntParser.java:777)\n",
      "\tat org.apache.pig.tools.pigscript.parser.PigScriptParser.parse(PigScriptParser.java:383)\n",
      "\tat org.apache.pig.tools.grunt.GruntParser.loadScript(GruntParser.java:561)\n",
      "\tat org.apache.pig.tools.grunt.GruntParser.processScript(GruntParser.java:503)\n",
      "\tat org.apache.pig.tools.pigscript.parser.PigScriptParser.Script(PigScriptParser.java:1037)\n",
      "\tat org.apache.pig.tools.pigscript.parser.PigScriptParser.parse(PigScriptParser.java:561)\n",
      "\tat org.apache.pig.tools.grunt.GruntParser.parseStopOnError(GruntParser.java:230)\n",
      "\tat org.apache.pig.tools.grunt.GruntParser.parseStopOnError(GruntParser.java:205)\n",
      "\tat org.apache.pig.tools.grunt.Grunt.exec(Grunt.java:81)\n",
      "\tat org.apache.pig.Main.run(Main.java:531)\n",
      "\tat org.apache.pig.Main.main(Main.java:175)\n",
      "\tat sun.reflect.NativeMethodAccessorImpl.invoke0(Native Method)\n",
      "\tat sun.reflect.NativeMethodAccessorImpl.invoke(NativeMethodAccessorImpl.java:62)\n",
      "\tat sun.reflect.DelegatingMethodAccessorImpl.invoke(DelegatingMethodAccessorImpl.java:43)\n",
      "\tat java.lang.reflect.Method.invoke(Method.java:498)\n",
      "\tat org.apache.hadoop.util.RunJar.run(RunJar.java:239)\n",
      "\tat org.apache.hadoop.util.RunJar.main(RunJar.java:153)\n",
      "Caused by: <line 21, column 38> Invalid scalar projection: G : A column needs to be projected from a relation for it to be used as a scalar\n",
      "\tat org.apache.pig.parser.LogicalPlanGenerator.var_expr(LogicalPlanGenerator.java:10973)\n",
      "\tat org.apache.pig.parser.LogicalPlanGenerator.expr(LogicalPlanGenerator.java:10190)\n",
      "\tat org.apache.pig.parser.LogicalPlanGenerator.real_arg(LogicalPlanGenerator.java:9643)\n",
      "\tat org.apache.pig.parser.LogicalPlanGenerator.func_eval(LogicalPlanGenerator.java:9374)\n",
      "\tat org.apache.pig.parser.LogicalPlanGenerator.projectable_expr(LogicalPlanGenerator.java:11082)\n",
      "\tat org.apache.pig.parser.LogicalPlanGenerator.var_expr(LogicalPlanGenerator.java:10841)\n",
      "\tat org.apache.pig.parser.LogicalPlanGenerator.expr(LogicalPlanGenerator.java:10190)\n",
      "\tat org.apache.pig.parser.LogicalPlanGenerator.flatten_generated_item(LogicalPlanGenerator.java:7519)\n",
      "\tat org.apache.pig.parser.LogicalPlanGenerator.generate_clause(LogicalPlanGenerator.java:17621)\n",
      "\tat org.apache.pig.parser.LogicalPlanGenerator.foreach_plan(LogicalPlanGenerator.java:16013)\n",
      "\tat org.apache.pig.parser.LogicalPlanGenerator.foreach_clause(LogicalPlanGenerator.java:15880)\n",
      "\tat org.apache.pig.parser.LogicalPlanGenerator.op_clause(LogicalPlanGenerator.java:1933)\n",
      "\tat org.apache.pig.parser.LogicalPlanGenerator.general_statement(LogicalPlanGenerator.java:1102)\n",
      "\tat org.apache.pig.parser.LogicalPlanGenerator.statement(LogicalPlanGenerator.java:560)\n",
      "\tat org.apache.pig.parser.LogicalPlanGenerator.query(LogicalPlanGenerator.java:421)\n",
      "\tat org.apache.pig.parser.QueryParserDriver.parse(QueryParserDriver.java:191)\n",
      "\t... 23 more\n",
      "2020-03-04 00:15:38,051 [main] ERROR org.apache.pig.tools.grunt.Grunt - ERROR 1200: Pig script failed to parse: <line 21, column 38> Invalid scalar projection: G : A column needs to be projected from a relation for it to be used as a scalar\n",
      "Details at logfile: /datalake/evaluacion-final-sefigueroacUNAL/02-pig-50/q08-10/pig_1583280925189.log\n"
     ]
    }
   ],
   "source": [
    "!pig -execute 'run question.pig'"
   ]
  },
  {
   "cell_type": "code",
   "execution_count": null,
   "metadata": {},
   "outputs": [],
   "source": []
  }
 ],
 "metadata": {
  "kernelspec": {
   "display_name": "Python 3",
   "language": "python",
   "name": "python3"
  },
  "language_info": {
   "codemirror_mode": {
    "name": "ipython",
    "version": 3
   },
   "file_extension": ".py",
   "mimetype": "text/x-python",
   "name": "python",
   "nbconvert_exporter": "python",
   "pygments_lexer": "ipython3",
   "version": "3.6.8"
  }
 },
 "nbformat": 4,
 "nbformat_minor": 4
}
